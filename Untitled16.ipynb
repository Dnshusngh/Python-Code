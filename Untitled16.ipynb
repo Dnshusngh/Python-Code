{
 "cells": [
  {
   "cell_type": "code",
   "execution_count": 1,
   "id": "63e11d1d",
   "metadata": {},
   "outputs": [
    {
     "name": "stdout",
     "output_type": "stream",
     "text": [
      "total = 2\n",
      "total = 4\n",
      "total = 6\n",
      "total = 8\n",
      "total = 10\n",
      "total = 12\n",
      "total = 14\n",
      "total = 16\n",
      "total = 18\n",
      "total = 20\n",
      "total = 22\n"
     ]
    }
   ],
   "source": [
    "mylist=[1,2,3,5,7,9,13,33,23,77,88]\n",
    "\n",
    "i=0\n",
    "total = 0\n",
    "\n",
    "while i < len(mylist):\n",
    "    total = total+mylist[1]\n",
    "    i=i+1\n",
    "    print(\"total =\",total)"
   ]
  },
  {
   "cell_type": "code",
   "execution_count": 4,
   "id": "3fd98ceb",
   "metadata": {},
   "outputs": [
    {
     "name": "stdout",
     "output_type": "stream",
     "text": [
      "('a', 'b', 'c', 'd', 'e', 'f')\n"
     ]
    }
   ],
   "source": [
    "#slice function\n",
    "a = (\"a\", \"b\", \"c\", \"d\", \"e\", \"f\", \"g\", \"h\")\n",
    "x = slice(6)\n",
    "print(a[x])"
   ]
  },
  {
   "cell_type": "code",
   "execution_count": null,
   "id": "c15e566e",
   "metadata": {},
   "outputs": [],
   "source": []
  }
 ],
 "metadata": {
  "kernelspec": {
   "display_name": "Python 3 (ipykernel)",
   "language": "python",
   "name": "python3"
  },
  "language_info": {
   "codemirror_mode": {
    "name": "ipython",
    "version": 3
   },
   "file_extension": ".py",
   "mimetype": "text/x-python",
   "name": "python",
   "nbconvert_exporter": "python",
   "pygments_lexer": "ipython3",
   "version": "3.11.4"
  }
 },
 "nbformat": 4,
 "nbformat_minor": 5
}
