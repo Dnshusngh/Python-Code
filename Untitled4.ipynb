{
 "cells": [
  {
   "cell_type": "code",
   "execution_count": null,
   "id": "8c373ec4",
   "metadata": {},
   "outputs": [],
   "source": [
    "def swap_numbers(a, b):\n",
    "    temp = a\n",
    "    a = b\n",
    "    b = temp\n",
    "    return a, b\n",
    "\n",
    "num1 = float(input(\"24: \"))\n",
    "num2 = float(input(\"25: \"))\n"
   ]
  },
  {
   "cell_type": "code",
   "execution_count": null,
   "id": "c62ec9f7",
   "metadata": {},
   "outputs": [],
   "source": [
    "print(\"Before swapping:\")\n",
    "print(\"First number:\", num1)\n",
    "print(\"Second number:\", num2)\n",
    "\n",
    "num1, num2 = swap_numbers(num1, num2)\n",
    "\n",
    "print(\"After swapping:\")\n",
    "print(\"First number:\", num1)\n",
    "print(\"Second number:\", num2)\n"
   ]
  },
  {
   "cell_type": "code",
   "execution_count": null,
   "id": "d6a39c36",
   "metadata": {},
   "outputs": [],
   "source": [
    "def swap_numbers(a, b):\n",
    "    temp = a\n",
    "    a = b\n",
    "    b = temp\n",
    "    return a, b\n",
    "\n",
    "num1 = float(input(\"Enter the first number: \"))\n",
    "num2 = float(input(\"Enter the second number: \"))\n",
    "\n",
    "print(\"Before swapping:\")\n",
    "print(\"First number:\", num1)\n",
    "print(\"Second number:\", num2)\n",
    "\n",
    "num1, num2 = swap_numbers(num1, num2)\n",
    "\n",
    "print(\"After swapping:\")\n",
    "print(\"First number:\", num1)\n",
    "print(\"Second number:\", num2)\n"
   ]
  },
  {
   "cell_type": "code",
   "execution_count": null,
   "id": "fc428ae7",
   "metadata": {},
   "outputs": [],
   "source": []
  }
 ],
 "metadata": {
  "kernelspec": {
   "display_name": "Python 3 (ipykernel)",
   "language": "python",
   "name": "python3"
  },
  "language_info": {
   "codemirror_mode": {
    "name": "ipython",
    "version": 3
   },
   "file_extension": ".py",
   "mimetype": "text/x-python",
   "name": "python",
   "nbconvert_exporter": "python",
   "pygments_lexer": "ipython3",
   "version": "3.11.4"
  }
 },
 "nbformat": 4,
 "nbformat_minor": 5
}
