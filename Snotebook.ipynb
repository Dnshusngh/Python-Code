{
 "cells": [
  {
   "cell_type": "code",
   "execution_count": 1,
   "id": "a91e5c2b",
   "metadata": {},
   "outputs": [
    {
     "name": "stdout",
     "output_type": "stream",
     "text": [
      "Dipanshu\n"
     ]
    }
   ],
   "source": [
    "print(\"Dipanshu\")"
   ]
  },
  {
   "cell_type": "markdown",
   "id": "f2e3360a",
   "metadata": {},
   "source": [
    "# Python Progarm"
   ]
  },
  {
   "cell_type": "markdown",
   "id": "35e20fa4",
   "metadata": {},
   "source": [
    "# # Dipanshu"
   ]
  },
  {
   "cell_type": "code",
   "execution_count": 2,
   "id": "1cd10a50",
   "metadata": {},
   "outputs": [
    {
     "name": "stdout",
     "output_type": "stream",
     "text": [
      "13\n"
     ]
    }
   ],
   "source": [
    "print(6+7)"
   ]
  },
  {
   "cell_type": "code",
   "execution_count": 3,
   "id": "642ca754",
   "metadata": {
    "scrolled": true
   },
   "outputs": [
    {
     "ename": "NameError",
     "evalue": "name 'Print' is not defined",
     "output_type": "error",
     "traceback": [
      "\u001b[1;31m---------------------------------------------------------------------------\u001b[0m",
      "\u001b[1;31mNameError\u001b[0m                                 Traceback (most recent call last)",
      "Cell \u001b[1;32mIn[3], line 1\u001b[0m\n\u001b[1;32m----> 1\u001b[0m Print(\u001b[38;5;241m5\u001b[39m)\n",
      "\u001b[1;31mNameError\u001b[0m: name 'Print' is not defined"
     ]
    }
   ],
   "source": [
    "Print(5)"
   ]
  },
  {
   "cell_type": "code",
   "execution_count": 4,
   "id": "5d1b8efd",
   "metadata": {},
   "outputs": [
    {
     "name": "stdout",
     "output_type": "stream",
     "text": [
      "83\n"
     ]
    }
   ],
   "source": [
    "print(83)"
   ]
  },
  {
   "cell_type": "code",
   "execution_count": null,
   "id": "ecf68eeb",
   "metadata": {},
   "outputs": [],
   "source": []
  }
 ],
 "metadata": {
  "kernelspec": {
   "display_name": "Python 3 (ipykernel)",
   "language": "python",
   "name": "python3"
  },
  "language_info": {
   "codemirror_mode": {
    "name": "ipython",
    "version": 3
   },
   "file_extension": ".py",
   "mimetype": "text/x-python",
   "name": "python",
   "nbconvert_exporter": "python",
   "pygments_lexer": "ipython3",
   "version": "3.11.4"
  }
 },
 "nbformat": 4,
 "nbformat_minor": 5
}
