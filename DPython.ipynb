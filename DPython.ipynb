{
 "cells": [
  {
   "cell_type": "code",
   "execution_count": 1,
   "id": "9518f52a",
   "metadata": {},
   "outputs": [
    {
     "name": "stdout",
     "output_type": "stream",
     "text": [
      "Dipanshu Singh....\n"
     ]
    }
   ],
   "source": [
    "print(\"Dipanshu Singh....\")"
   ]
  },
  {
   "cell_type": "code",
   "execution_count": 2,
   "id": "c69c0481",
   "metadata": {},
   "outputs": [
    {
     "name": "stdout",
     "output_type": "stream",
     "text": [
      "2+6+9\n"
     ]
    }
   ],
   "source": [
    "print(\"2+6+9\")"
   ]
  },
  {
   "cell_type": "code",
   "execution_count": 3,
   "id": "8e292999",
   "metadata": {},
   "outputs": [
    {
     "name": "stdout",
     "output_type": "stream",
     "text": [
      "15\n"
     ]
    }
   ],
   "source": [
    "print(6+9)"
   ]
  },
  {
   "cell_type": "code",
   "execution_count": null,
   "id": "e7377eb6",
   "metadata": {},
   "outputs": [],
   "source": []
  }
 ],
 "metadata": {
  "kernelspec": {
   "display_name": "Python 3 (ipykernel)",
   "language": "python",
   "name": "python3"
  },
  "language_info": {
   "codemirror_mode": {
    "name": "ipython",
    "version": 3
   },
   "file_extension": ".py",
   "mimetype": "text/x-python",
   "name": "python",
   "nbconvert_exporter": "python",
   "pygments_lexer": "ipython3",
   "version": "3.11.4"
  }
 },
 "nbformat": 4,
 "nbformat_minor": 5
}
