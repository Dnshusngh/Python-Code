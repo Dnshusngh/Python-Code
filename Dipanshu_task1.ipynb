{
 "cells": [
  {
   "cell_type": "code",
   "execution_count": null,
   "id": "c10c1c6d",
   "metadata": {},
   "outputs": [],
   "source": [
    "def calculate_sum(numbers):\n",
    "    total = sum(numbers)\n",
    "    return total"
   ]
  },
  {
   "cell_type": "code",
   "execution_count": 18,
   "id": "63f5ae09",
   "metadata": {},
   "outputs": [
    {
     "name": "stdout",
     "output_type": "stream",
     "text": [
      "Sum of even numbers: 36\n"
     ]
    }
   ],
   "source": [
    "my_list = [1, 2, 3, 4, 5, 6, 7, 8]\n",
    "result = calculate_sum(my_list)\n",
    "print(\"Sum of even numbers:\", result)"
   ]
  },
  {
   "cell_type": "code",
   "execution_count": 4,
   "id": "272d3d1b",
   "metadata": {},
   "outputs": [],
   "source": [
    "def func(x, y=[4,3]):\n",
    "    y.append(x)\n",
    "    return y\n",
    "    print(func(2,[3,4]))"
   ]
  },
  {
   "cell_type": "code",
   "execution_count": 3,
   "id": "ef9d826d",
   "metadata": {},
   "outputs": [
    {
     "name": "stdout",
     "output_type": "stream",
     "text": [
      "[3, 4, 2]\n"
     ]
    }
   ],
   "source": [
    "def func(x, y=[4, 3]):\n",
    "    y.append(x)\n",
    "    return y\n",
    "\n",
    "result = func(2, [3, 4])\n",
    "print(result)\n"
   ]
  },
  {
   "cell_type": "code",
   "execution_count": 8,
   "id": "057ffbea",
   "metadata": {},
   "outputs": [
    {
     "name": "stdout",
     "output_type": "stream",
     "text": [
      "[3, 4, 2]\n"
     ]
    }
   ],
   "source": [
    "def func(x, y=[4, 3]):\n",
    "    y.append(x)\n",
    "    return y \n",
    "result = func(2, [3, 4])\n",
    "print(result)              \n",
    "    "
   ]
  },
  {
   "cell_type": "code",
   "execution_count": null,
   "id": "9e24eb04",
   "metadata": {},
   "outputs": [],
   "source": []
  }
 ],
 "metadata": {
  "kernelspec": {
   "display_name": "Python 3 (ipykernel)",
   "language": "python",
   "name": "python3"
  },
  "language_info": {
   "codemirror_mode": {
    "name": "ipython",
    "version": 3
   },
   "file_extension": ".py",
   "mimetype": "text/x-python",
   "name": "python",
   "nbconvert_exporter": "python",
   "pygments_lexer": "ipython3",
   "version": "3.11.4"
  }
 },
 "nbformat": 4,
 "nbformat_minor": 5
}
