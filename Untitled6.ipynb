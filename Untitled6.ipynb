{
 "cells": [
  {
   "cell_type": "code",
   "execution_count": 2,
   "id": "c6aff66f",
   "metadata": {},
   "outputs": [
    {
     "name": "stdout",
     "output_type": "stream",
     "text": [
      "2\n",
      "4\n",
      "6\n",
      "8\n",
      "10\n",
      "12\n",
      "14\n",
      "16\n",
      "18\n",
      "20\n",
      "22\n",
      "24\n",
      "26\n",
      "28\n",
      "30\n",
      "32\n",
      "34\n",
      "36\n",
      "38\n",
      "40\n"
     ]
    }
   ],
   "source": [
    "# Initialize a counter for even numbers\n",
    "count = 0\n",
    "\n",
    "# Start a loop to find and print the first 20 even numbers\n",
    "for number in range(2, 41, 2):\n",
    "    print(number)\n",
    "    count += 1\n",
    "\n",
    "    # Break the loop once we've printed 20 even numbers\n",
    "    if count == 20:\n",
    "        break"
   ]
  },
  {
   "cell_type": "code",
   "execution_count": 7,
   "id": "1be54d4f",
   "metadata": {},
   "outputs": [
    {
     "name": "stdout",
     "output_type": "stream",
     "text": [
      "after swapping:\n",
      "n1= 150\n",
      "n2= 100\n"
     ]
    }
   ],
   "source": [
    "n1=100\n",
    "n2=150\n",
    "\n",
    "n1=n1+n2\n",
    "n2=n1-n2\n",
    "n1=n1-n2\n",
    "\n",
    "print(\"after swapping:\")\n",
    "print(\"n1=\",n1)\n",
    "print(\"n2=\",n2)\n"
   ]
  },
  {
   "cell_type": "code",
   "execution_count": null,
   "id": "14b52e1e",
   "metadata": {},
   "outputs": [],
   "source": [
    "def compare(a, b):\n",
    "    if a == b:\n",
    "        return True\n",
    "    return False\n",
    "\n",
    "x = int(input(\"Enter First Number : \"))\n",
    "y = int(input(\"Enter Second Number : \"))\n",
    "\n",
    "result = compare(x, y)\n",
    "if result == True:\n",
    "    print(\"Two numbers are equal\")\n",
    "else:\n",
    "    print(\"Two numbers are not equal\")\n"
   ]
  },
  {
   "cell_type": "code",
   "execution_count": null,
   "id": "0be4b94c",
   "metadata": {},
   "outputs": [],
   "source": []
  }
 ],
 "metadata": {
  "kernelspec": {
   "display_name": "Python 3 (ipykernel)",
   "language": "python",
   "name": "python3"
  },
  "language_info": {
   "codemirror_mode": {
    "name": "ipython",
    "version": 3
   },
   "file_extension": ".py",
   "mimetype": "text/x-python",
   "name": "python",
   "nbconvert_exporter": "python",
   "pygments_lexer": "ipython3",
   "version": "3.11.4"
  }
 },
 "nbformat": 4,
 "nbformat_minor": 5
}
