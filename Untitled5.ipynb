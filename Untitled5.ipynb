{
 "cells": [
  {
   "cell_type": "code",
   "execution_count": 3,
   "id": "07d0543b",
   "metadata": {},
   "outputs": [
    {
     "name": "stdout",
     "output_type": "stream",
     "text": [
      "101: 100\n",
      "100: 101\n",
      "Before swapping:\n",
      "First number: 100.0\n",
      "Second number: 101.0\n",
      "After swapping:\n",
      "First number: 101.0\n",
      "Second number: 100.0\n"
     ]
    }
   ],
   "source": [
    "def swap_numbers(a, b):\n",
    "    temp = a\n",
    "    a = b\n",
    "    b = temp\n",
    "    return a, b\n",
    "\n",
    "num1 = float(input(\"101: \"))\n",
    "num2 = float(input(\"100: \"))\n",
    "\n",
    "print(\"Before swapping:\")\n",
    "print(\"First number:\", num1)\n",
    "print(\"Second number:\", num2)\n",
    "\n",
    "num1, num2 = swap_numbers(num1, num2)\n",
    "\n",
    "print(\"After swapping:\")\n",
    "print(\"First number:\", num1)\n",
    "print(\"Second number:\", num2)\n"
   ]
  },
  {
   "cell_type": "code",
   "execution_count": 2,
   "id": "3bcb2dd5",
   "metadata": {},
   "outputs": [
    {
     "name": "stdout",
     "output_type": "stream",
     "text": [
      "Enter the first name: Dipanshu\n",
      "Enter the second name: Deepika\n",
      "Names are not equal.\n"
     ]
    }
   ],
   "source": [
    "def main():\n",
    "    name1 = input(\"Enter the first name: \")\n",
    "    name2 = input(\"Enter the second name: \")\n",
    "\n",
    "    if name1 == name2:\n",
    "        print(\"Both names are equal.\")\n",
    "    else:\n",
    "        print(\"Names are not equal.\")\n",
    "\n",
    "if __name__ == \"__main__\":\n",
    "    main()\n"
   ]
  },
  {
   "cell_type": "code",
   "execution_count": null,
   "id": "fec7fc02",
   "metadata": {},
   "outputs": [],
   "source": []
  }
 ],
 "metadata": {
  "kernelspec": {
   "display_name": "Python 3 (ipykernel)",
   "language": "python",
   "name": "python3"
  },
  "language_info": {
   "codemirror_mode": {
    "name": "ipython",
    "version": 3
   },
   "file_extension": ".py",
   "mimetype": "text/x-python",
   "name": "python",
   "nbconvert_exporter": "python",
   "pygments_lexer": "ipython3",
   "version": "3.11.4"
  }
 },
 "nbformat": 4,
 "nbformat_minor": 5
}
