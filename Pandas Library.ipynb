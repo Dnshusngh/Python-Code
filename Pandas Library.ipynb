{
 "cells": [
  {
   "cell_type": "code",
   "execution_count": 11,
   "id": "762451e0",
   "metadata": {},
   "outputs": [
    {
     "name": "stdout",
     "output_type": "stream",
     "text": [
      "    age char\n",
      "0     1    A\n",
      "1     2    B\n",
      "2     3    C\n",
      "3     1    A\n",
      "4     2    B\n",
      "5     5    E\n",
      "6     6    F\n",
      "7     7    G\n",
      "8     8    H\n",
      "9     6    F\n",
      "10    9    I\n"
     ]
    }
   ],
   "source": [
    "import pandas as pd\n",
    "\n",
    "data = {'age': [1,2,3,1,2,5,6,7,8,6,9],\n",
    "       'char': ['A','B','C','A','B','E','F','G','H','F','I']}\n",
    "\n",
    "df = pd.DataFrame(data)\n",
    "#df = df.drop_duplicates()\n",
    "print(df)"
   ]
  },
  {
   "cell_type": "code",
   "execution_count": 13,
   "id": "7845c920",
   "metadata": {},
   "outputs": [
    {
     "name": "stdout",
     "output_type": "stream",
     "text": [
      "    age char\n",
      "0     1    A\n",
      "1     2    B\n",
      "2     3    C\n",
      "5     5    E\n",
      "6     6    F\n",
      "7     7    G\n",
      "8     8    H\n",
      "10    9    I\n"
     ]
    }
   ],
   "source": [
    "import pandas as pd\n",
    "\n",
    "data = {'age': [1,2,3,1,2,5,6,7,8,6,9],\n",
    "       'char': ['A','B','C','A','B','E','F','G','H','F','I']}\n",
    "\n",
    "df = pd.DataFrame(data)\n",
    "df = df.drop_duplicates() # remove duplicates as a row\n",
    "print(df)"
   ]
  },
  {
   "cell_type": "code",
   "execution_count": 14,
   "id": "17de0797",
   "metadata": {},
   "outputs": [],
   "source": [
    "import pandas as pd"
   ]
  },
  {
   "cell_type": "code",
   "execution_count": 30,
   "id": "33c7231d",
   "metadata": {},
   "outputs": [],
   "source": [
    "df = pd.read_csv('F:\\AIDTM\\Stock market data.csv')"
   ]
  },
  {
   "cell_type": "code",
   "execution_count": 49,
   "id": "dc8bd2f2",
   "metadata": {
    "scrolled": true
   },
   "outputs": [
    {
     "data": {
      "text/html": [
       "<div>\n",
       "<style scoped>\n",
       "    .dataframe tbody tr th:only-of-type {\n",
       "        vertical-align: middle;\n",
       "    }\n",
       "\n",
       "    .dataframe tbody tr th {\n",
       "        vertical-align: top;\n",
       "    }\n",
       "\n",
       "    .dataframe thead th {\n",
       "        text-align: right;\n",
       "    }\n",
       "</style>\n",
       "<table border=\"1\" class=\"dataframe\">\n",
       "  <thead>\n",
       "    <tr style=\"text-align: right;\">\n",
       "      <th></th>\n",
       "      <th>Time</th>\n",
       "      <th>Ser/Exp/Group</th>\n",
       "      <th>Symbol/ScripID</th>\n",
       "      <th>Strike</th>\n",
       "      <th>Option Type</th>\n",
       "      <th>B/S</th>\n",
       "      <th>Qty</th>\n",
       "      <th>Price</th>\n",
       "      <th>Date</th>\n",
       "    </tr>\n",
       "  </thead>\n",
       "  <tbody>\n",
       "    <tr>\n",
       "      <th>0</th>\n",
       "      <td>15:27:51 Hrs</td>\n",
       "      <td>28-Sep-23</td>\n",
       "      <td>RELIANCE</td>\n",
       "      <td>2640.0</td>\n",
       "      <td>CE</td>\n",
       "      <td>SELL</td>\n",
       "      <td>250</td>\n",
       "      <td>6.8</td>\n",
       "      <td>01-09-23</td>\n",
       "    </tr>\n",
       "    <tr>\n",
       "      <th>1</th>\n",
       "      <td>15:27:43 Hrs</td>\n",
       "      <td>26-Oct-23</td>\n",
       "      <td>RELIANCE</td>\n",
       "      <td>2700.0</td>\n",
       "      <td>CE</td>\n",
       "      <td>BUY</td>\n",
       "      <td>250</td>\n",
       "      <td>12.8</td>\n",
       "      <td>01-09-23</td>\n",
       "    </tr>\n",
       "    <tr>\n",
       "      <th>2</th>\n",
       "      <td>15:19:15 Hrs</td>\n",
       "      <td>28-Sep-23</td>\n",
       "      <td>RELIANCE</td>\n",
       "      <td>2240.0</td>\n",
       "      <td>PE</td>\n",
       "      <td>SELL</td>\n",
       "      <td>250</td>\n",
       "      <td>7.7</td>\n",
       "      <td>01-09-23</td>\n",
       "    </tr>\n",
       "    <tr>\n",
       "      <th>3</th>\n",
       "      <td>15:19:13 Hrs</td>\n",
       "      <td>26-Oct-23</td>\n",
       "      <td>RELIANCE</td>\n",
       "      <td>2200.0</td>\n",
       "      <td>PE</td>\n",
       "      <td>BUY</td>\n",
       "      <td>250</td>\n",
       "      <td>11.2</td>\n",
       "      <td>01-09-23</td>\n",
       "    </tr>\n",
       "    <tr>\n",
       "      <th>4</th>\n",
       "      <td>15:18:49 Hrs</td>\n",
       "      <td>28-Sep-23</td>\n",
       "      <td>RELIANCE</td>\n",
       "      <td>2240.0</td>\n",
       "      <td>PE</td>\n",
       "      <td>SELL</td>\n",
       "      <td>250</td>\n",
       "      <td>7.7</td>\n",
       "      <td>01-09-23</td>\n",
       "    </tr>\n",
       "  </tbody>\n",
       "</table>\n",
       "</div>"
      ],
      "text/plain": [
       "           Time Ser/Exp/Group Symbol/ScripID  Strike Option Type   B/S  Qty  \\\n",
       "0  15:27:51 Hrs     28-Sep-23       RELIANCE  2640.0          CE  SELL  250   \n",
       "1  15:27:43 Hrs     26-Oct-23       RELIANCE  2700.0          CE   BUY  250   \n",
       "2  15:19:15 Hrs     28-Sep-23       RELIANCE  2240.0          PE  SELL  250   \n",
       "3  15:19:13 Hrs     26-Oct-23       RELIANCE  2200.0          PE   BUY  250   \n",
       "4  15:18:49 Hrs     28-Sep-23       RELIANCE  2240.0          PE  SELL  250   \n",
       "\n",
       "   Price      Date  \n",
       "0    6.8  01-09-23  \n",
       "1   12.8  01-09-23  \n",
       "2    7.7  01-09-23  \n",
       "3   11.2  01-09-23  \n",
       "4    7.7  01-09-23  "
      ]
     },
     "execution_count": 49,
     "metadata": {},
     "output_type": "execute_result"
    }
   ],
   "source": [
    "df.head()"
   ]
  },
  {
   "cell_type": "code",
   "execution_count": 48,
   "id": "1372cf1b",
   "metadata": {},
   "outputs": [
    {
     "data": {
      "text/html": [
       "<div>\n",
       "<style scoped>\n",
       "    .dataframe tbody tr th:only-of-type {\n",
       "        vertical-align: middle;\n",
       "    }\n",
       "\n",
       "    .dataframe tbody tr th {\n",
       "        vertical-align: top;\n",
       "    }\n",
       "\n",
       "    .dataframe thead th {\n",
       "        text-align: right;\n",
       "    }\n",
       "</style>\n",
       "<table border=\"1\" class=\"dataframe\">\n",
       "  <thead>\n",
       "    <tr style=\"text-align: right;\">\n",
       "      <th></th>\n",
       "      <th>Time</th>\n",
       "      <th>Ser/Exp/Group</th>\n",
       "      <th>Symbol/ScripID</th>\n",
       "      <th>Strike</th>\n",
       "      <th>Option Type</th>\n",
       "      <th>B/S</th>\n",
       "      <th>Qty</th>\n",
       "      <th>Price</th>\n",
       "      <th>Date</th>\n",
       "    </tr>\n",
       "  </thead>\n",
       "  <tbody>\n",
       "    <tr>\n",
       "      <th>3050</th>\n",
       "      <td>09:24:54 Hrs</td>\n",
       "      <td>31-Aug-23</td>\n",
       "      <td>RELIANCE</td>\n",
       "      <td>2600.0</td>\n",
       "      <td>CE</td>\n",
       "      <td>BUY</td>\n",
       "      <td>250</td>\n",
       "      <td>0.30</td>\n",
       "      <td>30-08-23</td>\n",
       "    </tr>\n",
       "    <tr>\n",
       "      <th>3051</th>\n",
       "      <td>09:24:51 Hrs</td>\n",
       "      <td>31-Aug-23</td>\n",
       "      <td>RELIANCE</td>\n",
       "      <td>2600.0</td>\n",
       "      <td>CE</td>\n",
       "      <td>BUY</td>\n",
       "      <td>750</td>\n",
       "      <td>0.30</td>\n",
       "      <td>30-08-23</td>\n",
       "    </tr>\n",
       "    <tr>\n",
       "      <th>3052</th>\n",
       "      <td>09:24:51 Hrs</td>\n",
       "      <td>31-Aug-23</td>\n",
       "      <td>RELIANCE</td>\n",
       "      <td>2600.0</td>\n",
       "      <td>CE</td>\n",
       "      <td>BUY</td>\n",
       "      <td>1500</td>\n",
       "      <td>0.30</td>\n",
       "      <td>30-08-23</td>\n",
       "    </tr>\n",
       "    <tr>\n",
       "      <th>3053</th>\n",
       "      <td>09:38:10 Hrs</td>\n",
       "      <td>31-Aug-23</td>\n",
       "      <td>TATASTEEL</td>\n",
       "      <td>136.0</td>\n",
       "      <td>CE</td>\n",
       "      <td>BUY</td>\n",
       "      <td>5500</td>\n",
       "      <td>0.05</td>\n",
       "      <td>30-08-23</td>\n",
       "    </tr>\n",
       "    <tr>\n",
       "      <th>3054</th>\n",
       "      <td>09:38:06 Hrs</td>\n",
       "      <td>28-Sep-23</td>\n",
       "      <td>TATASTEEL</td>\n",
       "      <td>135.0</td>\n",
       "      <td>CE</td>\n",
       "      <td>SELL</td>\n",
       "      <td>5500</td>\n",
       "      <td>0.65</td>\n",
       "      <td>30-08-23</td>\n",
       "    </tr>\n",
       "  </tbody>\n",
       "</table>\n",
       "</div>"
      ],
      "text/plain": [
       "              Time Ser/Exp/Group Symbol/ScripID  Strike Option Type   B/S  \\\n",
       "3050  09:24:54 Hrs     31-Aug-23       RELIANCE  2600.0          CE   BUY   \n",
       "3051  09:24:51 Hrs     31-Aug-23       RELIANCE  2600.0          CE   BUY   \n",
       "3052  09:24:51 Hrs     31-Aug-23       RELIANCE  2600.0          CE   BUY   \n",
       "3053  09:38:10 Hrs     31-Aug-23      TATASTEEL   136.0          CE   BUY   \n",
       "3054  09:38:06 Hrs     28-Sep-23      TATASTEEL   135.0          CE  SELL   \n",
       "\n",
       "       Qty  Price      Date  \n",
       "3050   250   0.30  30-08-23  \n",
       "3051   750   0.30  30-08-23  \n",
       "3052  1500   0.30  30-08-23  \n",
       "3053  5500   0.05  30-08-23  \n",
       "3054  5500   0.65  30-08-23  "
      ]
     },
     "execution_count": 48,
     "metadata": {},
     "output_type": "execute_result"
    }
   ],
   "source": [
    "df.tail()"
   ]
  },
  {
   "cell_type": "code",
   "execution_count": 36,
   "id": "a6923d45",
   "metadata": {},
   "outputs": [],
   "source": [
    "missing = df.isnull().sum"
   ]
  },
  {
   "cell_type": "code",
   "execution_count": 37,
   "id": "9c80a4c2",
   "metadata": {},
   "outputs": [
    {
     "name": "stdout",
     "output_type": "stream",
     "text": [
      "<bound method NDFrame._add_numeric_operations.<locals>.sum of        Time  Ser/Exp/Group  Symbol/ScripID  Strike  Option Type    B/S    Qty  \\\n",
      "0     False          False           False   False        False  False  False   \n",
      "1     False          False           False   False        False  False  False   \n",
      "2     False          False           False   False        False  False  False   \n",
      "3     False          False           False   False        False  False  False   \n",
      "4     False          False           False   False        False  False  False   \n",
      "...     ...            ...             ...     ...          ...    ...    ...   \n",
      "3050  False          False           False   False        False  False  False   \n",
      "3051  False          False           False   False        False  False  False   \n",
      "3052  False          False           False   False        False  False  False   \n",
      "3053  False          False           False   False        False  False  False   \n",
      "3054  False          False           False   False        False  False  False   \n",
      "\n",
      "      Price   Date  \n",
      "0     False  False  \n",
      "1     False  False  \n",
      "2     False  False  \n",
      "3     False  False  \n",
      "4     False  False  \n",
      "...     ...    ...  \n",
      "3050  False  False  \n",
      "3051  False  False  \n",
      "3052  False  False  \n",
      "3053  False  False  \n",
      "3054  False  False  \n",
      "\n",
      "[3055 rows x 9 columns]>\n"
     ]
    }
   ],
   "source": [
    "print(missing)"
   ]
  },
  {
   "cell_type": "code",
   "execution_count": 42,
   "id": "a4944a21",
   "metadata": {},
   "outputs": [
    {
     "data": {
      "text/plain": [
       "14"
      ]
     },
     "execution_count": 42,
     "metadata": {},
     "output_type": "execute_result"
    }
   ],
   "source": [
    "df[\"Strike\"].isnull().sum()"
   ]
  },
  {
   "cell_type": "code",
   "execution_count": 6,
   "id": "ba823c5b",
   "metadata": {},
   "outputs": [],
   "source": [
    "import pandas as pd\n",
    "\n",
    "# Load the dataset\n",
    "df = pd.read_csv('F:\\AIDTM\\Stock market data.csv')\n",
    "\n",
    "# compute the mean of the non-missing values in the \"Strike\" column\n",
    "mean_Strike = df[\"Strike\"].mean()\n",
    "\n",
    "# fill missing values in the \"Strike\" column with the mean\n",
    "df[\"Strike\"].fillna(mean_Strike, inplace=True)"
   ]
  },
  {
   "cell_type": "code",
   "execution_count": 4,
   "id": "5e7ff5a0",
   "metadata": {},
   "outputs": [
    {
     "name": "stdout",
     "output_type": "stream",
     "text": [
      "13273.41252877343\n"
     ]
    }
   ],
   "source": [
    "mean_Strike = df[\"Strike\"].mean()\n",
    "print(mean_Strike)"
   ]
  },
  {
   "cell_type": "code",
   "execution_count": 15,
   "id": "dbdf4e37",
   "metadata": {},
   "outputs": [
    {
     "name": "stdout",
     "output_type": "stream",
     "text": [
      "19200.0\n"
     ]
    }
   ],
   "source": [
    "median_Strike = df[\"Strike\"].median()\n",
    "print(median_Strike)"
   ]
  },
  {
   "cell_type": "code",
   "execution_count": 16,
   "id": "4a1ce817",
   "metadata": {},
   "outputs": [
    {
     "name": "stdout",
     "output_type": "stream",
     "text": [
      "0    20150.0\n",
      "1    21500.0\n",
      "Name: Strike, dtype: float64\n"
     ]
    }
   ],
   "source": [
    "mode_Strike = df[\"Strike\"].mode()\n",
    "print(mode_Strike)"
   ]
  },
  {
   "cell_type": "code",
   "execution_count": 17,
   "id": "b30f8284",
   "metadata": {},
   "outputs": [
    {
     "data": {
      "text/plain": [
       "14"
      ]
     },
     "execution_count": 17,
     "metadata": {},
     "output_type": "execute_result"
    }
   ],
   "source": [
    "df[\"Option Type\"].isnull().sum()"
   ]
  },
  {
   "cell_type": "code",
   "execution_count": 23,
   "id": "618a2b31",
   "metadata": {},
   "outputs": [
    {
     "data": {
      "text/html": [
       "<div>\n",
       "<style scoped>\n",
       "    .dataframe tbody tr th:only-of-type {\n",
       "        vertical-align: middle;\n",
       "    }\n",
       "\n",
       "    .dataframe tbody tr th {\n",
       "        vertical-align: top;\n",
       "    }\n",
       "\n",
       "    .dataframe thead th {\n",
       "        text-align: right;\n",
       "    }\n",
       "</style>\n",
       "<table border=\"1\" class=\"dataframe\">\n",
       "  <thead>\n",
       "    <tr style=\"text-align: right;\">\n",
       "      <th></th>\n",
       "      <th>Time</th>\n",
       "      <th>Ser/Exp/Group</th>\n",
       "      <th>Symbol/ScripID</th>\n",
       "      <th>Strike</th>\n",
       "      <th>Option Type</th>\n",
       "      <th>B/S</th>\n",
       "      <th>Qty</th>\n",
       "      <th>Price</th>\n",
       "      <th>Date</th>\n",
       "    </tr>\n",
       "  </thead>\n",
       "  <tbody>\n",
       "    <tr>\n",
       "      <th>10</th>\n",
       "      <td>11:21:14 Hrs</td>\n",
       "      <td>28-Sep-23</td>\n",
       "      <td>KOTAKBANK</td>\n",
       "      <td>1700.000000</td>\n",
       "      <td>PE</td>\n",
       "      <td>SELL</td>\n",
       "      <td>400</td>\n",
       "      <td>8.75</td>\n",
       "      <td>01-09-23</td>\n",
       "    </tr>\n",
       "    <tr>\n",
       "      <th>11</th>\n",
       "      <td>11:21:08 Hrs</td>\n",
       "      <td>28-Sep-23</td>\n",
       "      <td>KOTAKBANK</td>\n",
       "      <td>1600.000000</td>\n",
       "      <td>PE</td>\n",
       "      <td>BUY</td>\n",
       "      <td>400</td>\n",
       "      <td>2.30</td>\n",
       "      <td>01-09-23</td>\n",
       "    </tr>\n",
       "    <tr>\n",
       "      <th>12</th>\n",
       "      <td>11:20:41 Hrs</td>\n",
       "      <td>28-Sep-23</td>\n",
       "      <td>KOTAKBANK</td>\n",
       "      <td>1600.000000</td>\n",
       "      <td>PE</td>\n",
       "      <td>BUY</td>\n",
       "      <td>800</td>\n",
       "      <td>2.30</td>\n",
       "      <td>01-09-23</td>\n",
       "    </tr>\n",
       "    <tr>\n",
       "      <th>13</th>\n",
       "      <td>11:19:06 Hrs</td>\n",
       "      <td>28-Sep-23</td>\n",
       "      <td>KOTAKBANK</td>\n",
       "      <td>1600.000000</td>\n",
       "      <td>PE</td>\n",
       "      <td>BUY</td>\n",
       "      <td>800</td>\n",
       "      <td>2.30</td>\n",
       "      <td>01-09-23</td>\n",
       "    </tr>\n",
       "    <tr>\n",
       "      <th>14</th>\n",
       "      <td>11:19:06 Hrs</td>\n",
       "      <td>28-Sep-23</td>\n",
       "      <td>KOTAKBANK</td>\n",
       "      <td>1600.000000</td>\n",
       "      <td>PE</td>\n",
       "      <td>BUY</td>\n",
       "      <td>400</td>\n",
       "      <td>2.30</td>\n",
       "      <td>01-09-23</td>\n",
       "    </tr>\n",
       "    <tr>\n",
       "      <th>15</th>\n",
       "      <td>11:19:03 Hrs</td>\n",
       "      <td>28-Sep-23</td>\n",
       "      <td>KOTAKBANK</td>\n",
       "      <td>1700.000000</td>\n",
       "      <td>PE</td>\n",
       "      <td>SELL</td>\n",
       "      <td>400</td>\n",
       "      <td>8.90</td>\n",
       "      <td>01-09-23</td>\n",
       "    </tr>\n",
       "    <tr>\n",
       "      <th>16</th>\n",
       "      <td>11:18:44 Hrs</td>\n",
       "      <td>28-Sep-23</td>\n",
       "      <td>KOTAKBANK</td>\n",
       "      <td>1800.000000</td>\n",
       "      <td>CE</td>\n",
       "      <td>BUY</td>\n",
       "      <td>800</td>\n",
       "      <td>22.70</td>\n",
       "      <td>01-09-23</td>\n",
       "    </tr>\n",
       "    <tr>\n",
       "      <th>17</th>\n",
       "      <td>11:18:40 Hrs</td>\n",
       "      <td>28-Sep-23</td>\n",
       "      <td>KOTAKBANK</td>\n",
       "      <td>13273.412529</td>\n",
       "      <td>NaN</td>\n",
       "      <td>SELL</td>\n",
       "      <td>400</td>\n",
       "      <td>1777.50</td>\n",
       "      <td>01-09-23</td>\n",
       "    </tr>\n",
       "    <tr>\n",
       "      <th>18</th>\n",
       "      <td>09:31:37 Hrs</td>\n",
       "      <td>28-Sep-23</td>\n",
       "      <td>KOTAKBANK</td>\n",
       "      <td>1800.000000</td>\n",
       "      <td>CE</td>\n",
       "      <td>SELL</td>\n",
       "      <td>800</td>\n",
       "      <td>22.50</td>\n",
       "      <td>01-09-23</td>\n",
       "    </tr>\n",
       "    <tr>\n",
       "      <th>19</th>\n",
       "      <td>09:31:32 Hrs</td>\n",
       "      <td>28-Sep-23</td>\n",
       "      <td>KOTAKBANK</td>\n",
       "      <td>13273.412529</td>\n",
       "      <td>NaN</td>\n",
       "      <td>BUY</td>\n",
       "      <td>400</td>\n",
       "      <td>1773.15</td>\n",
       "      <td>01-09-23</td>\n",
       "    </tr>\n",
       "    <tr>\n",
       "      <th>20</th>\n",
       "      <td>09:17:05 Hrs</td>\n",
       "      <td>28-Sep-23</td>\n",
       "      <td>KOTAKBANK</td>\n",
       "      <td>1600.000000</td>\n",
       "      <td>PE</td>\n",
       "      <td>BUY</td>\n",
       "      <td>400</td>\n",
       "      <td>3.50</td>\n",
       "      <td>01-09-23</td>\n",
       "    </tr>\n",
       "    <tr>\n",
       "      <th>21</th>\n",
       "      <td>09:16:09 Hrs</td>\n",
       "      <td>28-Sep-23</td>\n",
       "      <td>KOTAKBANK</td>\n",
       "      <td>1700.000000</td>\n",
       "      <td>PE</td>\n",
       "      <td>BUY</td>\n",
       "      <td>400</td>\n",
       "      <td>12.05</td>\n",
       "      <td>01-09-23</td>\n",
       "    </tr>\n",
       "    <tr>\n",
       "      <th>22</th>\n",
       "      <td>09:16:04 Hrs</td>\n",
       "      <td>28-Sep-23</td>\n",
       "      <td>KOTAKBANK</td>\n",
       "      <td>1700.000000</td>\n",
       "      <td>PE</td>\n",
       "      <td>BUY</td>\n",
       "      <td>400</td>\n",
       "      <td>12.35</td>\n",
       "      <td>01-09-23</td>\n",
       "    </tr>\n",
       "    <tr>\n",
       "      <th>23</th>\n",
       "      <td>09:15:05 Hrs</td>\n",
       "      <td>28-Sep-23</td>\n",
       "      <td>KOTAKBANK</td>\n",
       "      <td>1600.000000</td>\n",
       "      <td>PE</td>\n",
       "      <td>SELL</td>\n",
       "      <td>400</td>\n",
       "      <td>3.95</td>\n",
       "      <td>01-09-23</td>\n",
       "    </tr>\n",
       "    <tr>\n",
       "      <th>24</th>\n",
       "      <td>09:15:05 Hrs</td>\n",
       "      <td>28-Sep-23</td>\n",
       "      <td>KOTAKBANK</td>\n",
       "      <td>1600.000000</td>\n",
       "      <td>PE</td>\n",
       "      <td>SELL</td>\n",
       "      <td>400</td>\n",
       "      <td>3.95</td>\n",
       "      <td>01-09-23</td>\n",
       "    </tr>\n",
       "  </tbody>\n",
       "</table>\n",
       "</div>"
      ],
      "text/plain": [
       "            Time Ser/Exp/Group Symbol/ScripID        Strike Option Type   B/S  \\\n",
       "10  11:21:14 Hrs     28-Sep-23      KOTAKBANK   1700.000000          PE  SELL   \n",
       "11  11:21:08 Hrs     28-Sep-23      KOTAKBANK   1600.000000          PE   BUY   \n",
       "12  11:20:41 Hrs     28-Sep-23      KOTAKBANK   1600.000000          PE   BUY   \n",
       "13  11:19:06 Hrs     28-Sep-23      KOTAKBANK   1600.000000          PE   BUY   \n",
       "14  11:19:06 Hrs     28-Sep-23      KOTAKBANK   1600.000000          PE   BUY   \n",
       "15  11:19:03 Hrs     28-Sep-23      KOTAKBANK   1700.000000          PE  SELL   \n",
       "16  11:18:44 Hrs     28-Sep-23      KOTAKBANK   1800.000000          CE   BUY   \n",
       "17  11:18:40 Hrs     28-Sep-23      KOTAKBANK  13273.412529         NaN  SELL   \n",
       "18  09:31:37 Hrs     28-Sep-23      KOTAKBANK   1800.000000          CE  SELL   \n",
       "19  09:31:32 Hrs     28-Sep-23      KOTAKBANK  13273.412529         NaN   BUY   \n",
       "20  09:17:05 Hrs     28-Sep-23      KOTAKBANK   1600.000000          PE   BUY   \n",
       "21  09:16:09 Hrs     28-Sep-23      KOTAKBANK   1700.000000          PE   BUY   \n",
       "22  09:16:04 Hrs     28-Sep-23      KOTAKBANK   1700.000000          PE   BUY   \n",
       "23  09:15:05 Hrs     28-Sep-23      KOTAKBANK   1600.000000          PE  SELL   \n",
       "24  09:15:05 Hrs     28-Sep-23      KOTAKBANK   1600.000000          PE  SELL   \n",
       "\n",
       "    Qty    Price      Date  \n",
       "10  400     8.75  01-09-23  \n",
       "11  400     2.30  01-09-23  \n",
       "12  800     2.30  01-09-23  \n",
       "13  800     2.30  01-09-23  \n",
       "14  400     2.30  01-09-23  \n",
       "15  400     8.90  01-09-23  \n",
       "16  800    22.70  01-09-23  \n",
       "17  400  1777.50  01-09-23  \n",
       "18  800    22.50  01-09-23  \n",
       "19  400  1773.15  01-09-23  \n",
       "20  400     3.50  01-09-23  \n",
       "21  400    12.05  01-09-23  \n",
       "22  400    12.35  01-09-23  \n",
       "23  400     3.95  01-09-23  \n",
       "24  400     3.95  01-09-23  "
      ]
     },
     "execution_count": 23,
     "metadata": {},
     "output_type": "execute_result"
    }
   ],
   "source": [
    "df[:25].tail(15)"
   ]
  },
  {
   "cell_type": "code",
   "execution_count": 28,
   "id": "46879c82",
   "metadata": {},
   "outputs": [
    {
     "name": "stdout",
     "output_type": "stream",
     "text": [
      "              Time Ser/Exp/Group Symbol/ScripID  Strike Option Type   B/S  \\\n",
      "0     15:27:51 Hrs     28-Sep-23       RELIANCE  2640.0          CE  SELL   \n",
      "1     15:27:43 Hrs     26-Oct-23       RELIANCE  2700.0          CE   BUY   \n",
      "2     15:19:15 Hrs     28-Sep-23       RELIANCE  2240.0          PE  SELL   \n",
      "3     15:19:13 Hrs     26-Oct-23       RELIANCE  2200.0          PE   BUY   \n",
      "4     15:18:49 Hrs     28-Sep-23       RELIANCE  2240.0          PE  SELL   \n",
      "...            ...           ...            ...     ...         ...   ...   \n",
      "3050  09:24:54 Hrs     31-Aug-23       RELIANCE  2600.0          CE   BUY   \n",
      "3051  09:24:51 Hrs     31-Aug-23       RELIANCE  2600.0          CE   BUY   \n",
      "3052  09:24:51 Hrs     31-Aug-23       RELIANCE  2600.0          CE   BUY   \n",
      "3053  09:38:10 Hrs     31-Aug-23      TATASTEEL   136.0          CE   BUY   \n",
      "3054  09:38:06 Hrs     28-Sep-23      TATASTEEL   135.0          CE  SELL   \n",
      "\n",
      "       Qty  Price      Date  \n",
      "0      250   6.80  01-09-23  \n",
      "1      250  12.80  01-09-23  \n",
      "2      250   7.70  01-09-23  \n",
      "3      250  11.20  01-09-23  \n",
      "4      250   7.70  01-09-23  \n",
      "...    ...    ...       ...  \n",
      "3050   250   0.30  30-08-23  \n",
      "3051   750   0.30  30-08-23  \n",
      "3052  1500   0.30  30-08-23  \n",
      "3053  5500   0.05  30-08-23  \n",
      "3054  5500   0.65  30-08-23  \n",
      "\n",
      "[3055 rows x 9 columns]\n"
     ]
    }
   ],
   "source": [
    "# forward fill\n",
    "ffill_imp = df.fillna(method='ffill')\n",
    "print(ffill_imp)"
   ]
  },
  {
   "cell_type": "code",
   "execution_count": 40,
   "id": "8661f46c",
   "metadata": {},
   "outputs": [
    {
     "data": {
      "text/plain": [
       "0     2640.0\n",
       "1     2700.0\n",
       "2     2240.0\n",
       "3     2200.0\n",
       "4     2240.0\n",
       "5     2200.0\n",
       "6     2240.0\n",
       "7     2200.0\n",
       "8     2200.0\n",
       "9     2240.0\n",
       "10    1700.0\n",
       "11    1600.0\n",
       "12    1600.0\n",
       "13    1600.0\n",
       "14    1600.0\n",
       "15    1700.0\n",
       "16    1800.0\n",
       "17    1800.0\n",
       "18    1800.0\n",
       "19    1600.0\n",
       "Name: Strike, dtype: float64"
      ]
     },
     "execution_count": 40,
     "metadata": {},
     "output_type": "execute_result"
    }
   ],
   "source": [
    "# backword fill imputation (fill in the blank : khali jagah bharna)\n",
    "df = pd.read_csv('F:\\AIDTM\\Stock market data.csv')\n",
    "df.head(20)\n",
    "bfill = df[\"Strike\"].fillna(method='bfill')\n",
    "# bfill_imp = df.fillna(method='bfill')\n",
    "bfill.head(20)\n",
    "\n",
    "# bfill_imp.head(10)\n",
    "# plot imputation data"
   ]
  },
  {
   "cell_type": "code",
   "execution_count": 44,
   "id": "651b91c0",
   "metadata": {},
   "outputs": [
    {
     "data": {
      "text/plain": [
       "0     2640.0\n",
       "1     2700.0\n",
       "2     2240.0\n",
       "3     2200.0\n",
       "4     2240.0\n",
       "5     2200.0\n",
       "6     2240.0\n",
       "7     2200.0\n",
       "8     2200.0\n",
       "9     2240.0\n",
       "10    1700.0\n",
       "11    1600.0\n",
       "12    1600.0\n",
       "13    1600.0\n",
       "14    1600.0\n",
       "15    1700.0\n",
       "16    1800.0\n",
       "17    1800.0\n",
       "18    1800.0\n",
       "19    1800.0\n",
       "Name: Strike, dtype: float64"
      ]
     },
     "execution_count": 44,
     "metadata": {},
     "output_type": "execute_result"
    }
   ],
   "source": [
    "#forward fill in particular column\n",
    "ffill = df[\"Strike\"].fillna(method='ffill')\n",
    "ffill.head(20)"
   ]
  },
  {
   "cell_type": "code",
   "execution_count": null,
   "id": "eb7f73a4",
   "metadata": {},
   "outputs": [],
   "source": []
  }
 ],
 "metadata": {
  "kernelspec": {
   "display_name": "Python 3 (ipykernel)",
   "language": "python",
   "name": "python3"
  },
  "language_info": {
   "codemirror_mode": {
    "name": "ipython",
    "version": 3
   },
   "file_extension": ".py",
   "mimetype": "text/x-python",
   "name": "python",
   "nbconvert_exporter": "python",
   "pygments_lexer": "ipython3",
   "version": "3.11.4"
  }
 },
 "nbformat": 4,
 "nbformat_minor": 5
}
